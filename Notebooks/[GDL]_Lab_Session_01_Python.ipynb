{
 "cells": [
  {
   "cell_type": "markdown",
   "metadata": {
    "id": "E5_-1dTNI3F2"
   },
   "source": [
    "<h1>Generative Deep Learning 2021/2022</h1>\n",
    "<h2>Lab Session 1: Introduction to Python</h2>\n",
    "<h3>Danilo Comminiello</h3>\n",
    "<h3>June 6, 2022</h3>\n"
   ]
  },
  {
   "cell_type": "markdown",
   "metadata": {
    "id": "wkW3RApsxcJx"
   },
   "source": [
    "### Table of Contents\n",
    "1. [Setting Up Your Environment](#env)<br>\n",
    "    1.1. [Setting for this Course](#set)<br>\n",
    "    1.2. [References and Useful Links](#ref)<br>\n",
    "2. [Learn the Basics](#bas)<br>\n",
    "    2.1. [Syntax fundamentals](#syn)<br>\n",
    "    2.2. [Variables and types](#typ)<br>\n",
    "    2.3. [Lists and dictionaries](#lst)<br>\n",
    "    2.4. [Functions](#func)<br>\n",
    "3. [NumPy Fundamentals](#npy)<br>\n",
    "4. [Matplotlib Fundamentals](#mtp)<br>"
   ]
  },
  {
   "cell_type": "markdown",
   "metadata": {},
   "source": [
    "### 1. Setting Up Your Environment <a name=\"env\" />"
   ]
  },
  {
   "cell_type": "markdown",
   "metadata": {},
   "source": [
    "#### 1.1. Setting for this Course <a name=\"set\" />\n",
    "\n",
    "In this course we will use Python and some basic libraries, including Numpy, Matplotlib and TensorFlow.\n",
    "\n",
    "To run the lab session notebooks, we can basically use [Jupyter](https://jupyter.org/).\n",
    "\n",
    "You can install Python through the [Anaconda distribution](https://www.anaconda.com/products/individual), which also includes Jupyter and most of the basic libraries used in this course.\n",
    "\n",
    "You can also install TensorFlow following the instructions on the [website](https://www.tensorflow.org/install).\n",
    "\n",
    "Alternatively to installing Anaconda on your laptop, you can run all notebooks freely using the Google Colaboratory service (which you can access with a standard Gmail account or the uniroma1.it account)."
   ]
  },
  {
   "cell_type": "markdown",
   "metadata": {
    "id": "fJTQAOSMGJ5s"
   },
   "source": [
    "#### 1.2. References and Useful Links <a name=\"ref\" />"
   ]
  },
  {
   "cell_type": "markdown",
   "metadata": {
    "id": "T5Gs8GLrHwyp"
   },
   "source": [
    "The open-source [**Anaconda** Distribution](https://www.anaconda.com/distribution/) is the easiest way to perform Python on Linux, Windows, and Mac OS X. A getting started documentation is provided on the [Anaconda website](https://docs.anaconda.com/anaconda/user-guide/getting-started/). \n",
    "\n",
    "Anaconda installation includes several Python packages such as **NumPy** and **Matplotlib**. It also includes the installation of the **Spyder** interface, as well as the **Jupiter Notebook** to read and create Python notebooks like this one. An alternative to Jupiter Notebook is represented by the Google's web service [**Colab**](https://colab.research.google.com/)\n",
    "\n",
    "https://www.anaconda.com/distribution/"
   ]
  },
  {
   "cell_type": "markdown",
   "metadata": {
    "id": "EWKWZuw7K0g3"
   },
   "source": [
    "Some useful links and tutorials on **Python**:\n",
    "\n",
    "https://www.python.org/\n",
    "\n",
    "https://docs.python.org/3/tutorial/\n",
    "\n",
    "https://www.learnpython.org/en/Welcome\n",
    "\n",
    "https://www.w3schools.com/python/\n",
    "\n",
    "http://introtopython.org/"
   ]
  },
  {
   "cell_type": "markdown",
   "metadata": {
    "id": "qlugkJM9GNiP"
   },
   "source": [
    "Some useful links and tutorials on **NumPy**:\n",
    "\n",
    "https://sebastianraschka.com/pdf/books/dlb/appendix_f_numpy-intro.pdf\n",
    "\n",
    "https://docs.scipy.org/doc/numpy/user/quickstart.html"
   ]
  },
  {
   "cell_type": "markdown",
   "metadata": {
    "id": "J0NkXUi2HPn7"
   },
   "source": [
    "Some useful links and tutorials on **Matplotlib**:\n",
    "\n",
    "https://matplotlib.org/"
   ]
  },
  {
   "cell_type": "markdown",
   "metadata": {
    "id": "G20ThgsVI3F4"
   },
   "source": [
    "### 2. Learn the Basics <a name=\"bas\" />"
   ]
  },
  {
   "cell_type": "markdown",
   "metadata": {
    "id": "YkSYVqVkxcJz"
   },
   "source": [
    "#### 2.1. Syntax fundamentals <a name=\"syn\" />"
   ]
  },
  {
   "cell_type": "markdown",
   "metadata": {
    "id": "uJJIvzobxcJz"
   },
   "source": [
    "Python is a very simple language, and has a very straightforward **syntax**. It encourages programmers to program without boilerplate (prepared) code. The simplest directive in Python is the \"print\" directive - it simply prints out a line (and also includes a newline, unlike in C)."
   ]
  },
  {
   "cell_type": "code",
   "execution_count": 1,
   "metadata": {
    "id": "XyFGT1-BxcJ0"
   },
   "outputs": [
    {
     "name": "stdout",
     "output_type": "stream",
     "text": [
      "Welcome to the first lab session of the GDL course.\n"
     ]
    }
   ],
   "source": [
    "print(\"Welcome to the first lab session of the GDL course.\")"
   ]
  },
  {
   "cell_type": "markdown",
   "metadata": {
    "id": "KbTdHGyLxcJ0"
   },
   "source": [
    "**Comments** are fundamentals when coding. In Python they can be written using the hash character #. A comment may appear at the start of a line or following whitespace or code, but not within a string literal. A hash character within a string literal is just a hash character. Since comments are to clarify code and are not interpreted by Python, they may be omitted when typing in examples."
   ]
  },
  {
   "cell_type": "code",
   "execution_count": 2,
   "metadata": {
    "id": "YsjFYkS8xcJ1"
   },
   "outputs": [],
   "source": [
    "# this is a comment at the start of a line\n",
    "x = 1  # this is a comment following code\n",
    "          # ...and this is a comment following whitespace\n",
    "text = \"# This is not a comment because it's inside quotes.\""
   ]
  },
  {
   "cell_type": "markdown",
   "metadata": {
    "id": "pVIUGRtJxcJ1"
   },
   "source": [
    "Python uses **indentation** for blocks, instead of curly braces. Both tabs and spaces are supported, but the standard indentation requires standard Python code to use four spaces. For example:"
   ]
  },
  {
   "cell_type": "code",
   "execution_count": 3,
   "metadata": {
    "id": "U8I1MXWdxcJ2"
   },
   "outputs": [
    {
     "name": "stdout",
     "output_type": "stream",
     "text": [
      "x is 1.\n"
     ]
    }
   ],
   "source": [
    "x = 1\n",
    "if x == 1:\n",
    "    # indented by tab or four spaces\n",
    "    print(\"x is 1.\")"
   ]
  },
  {
   "cell_type": "markdown",
   "metadata": {
    "id": "tQaAFF0bxcJ2"
   },
   "source": [
    "#### 2.2. Variables and types <a name=\"typ\" />"
   ]
  },
  {
   "cell_type": "markdown",
   "metadata": {
    "id": "4ynxNxcRxcJ2"
   },
   "source": [
    "Python is completely object oriented, and not \"statically typed\". You do not need to declare variables before using them, or declare their type. Every variable in Python is an object.\n",
    "\n",
    "Python supports integer and floating point numbers."
   ]
  },
  {
   "cell_type": "code",
   "execution_count": 4,
   "metadata": {
    "id": "LUOG6UxQxcJ3"
   },
   "outputs": [
    {
     "name": "stdout",
     "output_type": "stream",
     "text": [
      "19\n"
     ]
    }
   ],
   "source": [
    "myint = 19  # define an integer number\n",
    "print(myint)"
   ]
  },
  {
   "cell_type": "code",
   "execution_count": 5,
   "metadata": {
    "id": "z76kNa2FxcJ3"
   },
   "outputs": [
    {
     "name": "stdout",
     "output_type": "stream",
     "text": [
      "19.0\n",
      "19.0\n"
     ]
    }
   ],
   "source": [
    "myfloat = 19.0  # define a floating point number\n",
    "print(myfloat)\n",
    "\n",
    "# or as an alternative:\n",
    "myfloat = float(19)\n",
    "print(myfloat)"
   ]
  },
  {
   "cell_type": "markdown",
   "metadata": {
    "id": "-xL8TxBaxcJ3"
   },
   "source": [
    "Expression syntax is straightforward: the operators +, -, * and / work just like in most other languages (for example, MATLAB or C); parentheses (()) can be used for grouping.\n",
    "\n",
    "Division (/) always returns a float. To do floor division and get an integer result (discarding any fractional result) you can use the // operator; to calculate the remainder you can use %.\n",
    "\n",
    "Powers are computed by using the operator ** ."
   ]
  },
  {
   "cell_type": "code",
   "execution_count": 6,
   "metadata": {
    "id": "qJb6YyeQxcJ4"
   },
   "outputs": [
    {
     "data": {
      "text/plain": [
       "3"
      ]
     },
     "execution_count": 6,
     "metadata": {},
     "output_type": "execute_result"
    }
   ],
   "source": [
    "1 + 2"
   ]
  },
  {
   "cell_type": "code",
   "execution_count": 7,
   "metadata": {
    "id": "fp3a6K2QxcJ4"
   },
   "outputs": [
    {
     "data": {
      "text/plain": [
       "20"
      ]
     },
     "execution_count": 7,
     "metadata": {},
     "output_type": "execute_result"
    }
   ],
   "source": [
    "40 - 5*4"
   ]
  },
  {
   "cell_type": "code",
   "execution_count": 8,
   "metadata": {
    "id": "NOtB5EZCxcJ4"
   },
   "outputs": [
    {
     "data": {
      "text/plain": [
       "5.0"
      ]
     },
     "execution_count": 8,
     "metadata": {},
     "output_type": "execute_result"
    }
   ],
   "source": [
    "(40 - 5*4) / 4"
   ]
  },
  {
   "cell_type": "code",
   "execution_count": 9,
   "metadata": {
    "id": "hW_NYD8cxcJ5"
   },
   "outputs": [
    {
     "data": {
      "text/plain": [
       "3.8"
      ]
     },
     "execution_count": 9,
     "metadata": {},
     "output_type": "execute_result"
    }
   ],
   "source": [
    "19 / 5  # division always returns a floating point number"
   ]
  },
  {
   "cell_type": "code",
   "execution_count": 10,
   "metadata": {
    "id": "uXRxtROkxcJ5"
   },
   "outputs": [
    {
     "data": {
      "text/plain": [
       "3"
      ]
     },
     "execution_count": 10,
     "metadata": {},
     "output_type": "execute_result"
    }
   ],
   "source": [
    "19 // 5  # floor division discards the fractional part"
   ]
  },
  {
   "cell_type": "code",
   "execution_count": 11,
   "metadata": {
    "id": "rptCQugqxcJ6"
   },
   "outputs": [
    {
     "data": {
      "text/plain": [
       "4"
      ]
     },
     "execution_count": 11,
     "metadata": {},
     "output_type": "execute_result"
    }
   ],
   "source": [
    "19 % 5  # the % operator returns the remainder of the division"
   ]
  },
  {
   "cell_type": "code",
   "execution_count": 12,
   "metadata": {
    "id": "hdR6-3JixcJ6"
   },
   "outputs": [
    {
     "data": {
      "text/plain": [
       "256"
      ]
     },
     "execution_count": 12,
     "metadata": {},
     "output_type": "execute_result"
    }
   ],
   "source": [
    "2 ** 8  # 2 to the power of 8"
   ]
  },
  {
   "cell_type": "markdown",
   "metadata": {
    "id": "rlcnTidlxcJ6"
   },
   "source": [
    "The equal sign (=) is used to assign a value to a **variable**."
   ]
  },
  {
   "cell_type": "code",
   "execution_count": 13,
   "metadata": {
    "id": "UvaJkvV-xcJ6"
   },
   "outputs": [
    {
     "data": {
      "text/plain": [
       "9"
      ]
     },
     "execution_count": 13,
     "metadata": {},
     "output_type": "execute_result"
    }
   ],
   "source": [
    "my_birthday_num = 19\n",
    "3 + my_birthday_num // 3"
   ]
  },
  {
   "cell_type": "markdown",
   "metadata": {
    "id": "3R9OYzJaxcJ7"
   },
   "source": [
    "**Strings** are defined either with a single quote or a double quotes. The difference between the two is that using double quotes makes it easy to include apostrophes (whereas these would terminate the string if using single quotes)."
   ]
  },
  {
   "cell_type": "code",
   "execution_count": 14,
   "metadata": {
    "id": "LxG_6pHhxcJ7"
   },
   "outputs": [
    {
     "name": "stdout",
     "output_type": "stream",
     "text": [
      "Danilo\n",
      "Comminiello\n"
     ]
    }
   ],
   "source": [
    "myname = 'Danilo'\n",
    "print(myname)\n",
    "mylastname = \"Comminiello\"\n",
    "print(mylastname)"
   ]
  },
  {
   "cell_type": "markdown",
   "metadata": {
    "id": "SExSp3bCxcJ7"
   },
   "source": [
    "Strings can be concatenated (glued together) with the + operator, and repeated with *"
   ]
  },
  {
   "cell_type": "code",
   "execution_count": 15,
   "metadata": {
    "id": "i_Q3VRcTxcJ7"
   },
   "outputs": [
    {
     "name": "stdout",
     "output_type": "stream",
     "text": [
      "generative deep learning\n"
     ]
    }
   ],
   "source": [
    "g = \"generative\"\n",
    "l = \"learning\"\n",
    "gdl = g + \" \" + \"deep \" + l\n",
    "print(gdl)"
   ]
  },
  {
   "cell_type": "code",
   "execution_count": 16,
   "metadata": {
    "id": "ia1_0PK3xcJ8"
   },
   "outputs": [
    {
     "data": {
      "text/plain": [
       "'gogogogogooooooooooal'"
      ]
     },
     "execution_count": 16,
     "metadata": {},
     "output_type": "execute_result"
    }
   ],
   "source": [
    "4 * \"go\" + \"g\" + 10 * \"o\" + \"al\""
   ]
  },
  {
   "cell_type": "markdown",
   "metadata": {
    "id": "qCnGhCYfxcJ8"
   },
   "source": [
    "We can check the type of a variable"
   ]
  },
  {
   "cell_type": "code",
   "execution_count": 17,
   "metadata": {
    "id": "08nS9wjSxcJ8"
   },
   "outputs": [
    {
     "data": {
      "text/plain": [
       "int"
      ]
     },
     "execution_count": 17,
     "metadata": {},
     "output_type": "execute_result"
    }
   ],
   "source": [
    "type(my_birthday_num)"
   ]
  },
  {
   "cell_type": "code",
   "execution_count": 18,
   "metadata": {
    "id": "7jVe3iA8xcJ8"
   },
   "outputs": [
    {
     "data": {
      "text/plain": [
       "str"
      ]
     },
     "execution_count": 18,
     "metadata": {},
     "output_type": "execute_result"
    }
   ],
   "source": [
    "type(gdl)"
   ]
  },
  {
   "cell_type": "code",
   "execution_count": 19,
   "metadata": {
    "id": "lZlX-09GxcJ9"
   },
   "outputs": [
    {
     "data": {
      "text/plain": [
       "True"
      ]
     },
     "execution_count": 19,
     "metadata": {},
     "output_type": "execute_result"
    }
   ],
   "source": [
    "# check if a variable type is correct or not for a certain variable\n",
    "isinstance(my_birthday_num, int)"
   ]
  },
  {
   "cell_type": "markdown",
   "metadata": {
    "id": "zB_HsFo8xcJ9"
   },
   "source": [
    "#### 2.3. Lists and dictionaries  <a name=\"lst\" />"
   ]
  },
  {
   "cell_type": "markdown",
   "metadata": {
    "id": "3jOmEdW6NxcZ"
   },
   "source": [
    "Four **data collection types** can be defined in Python: List, Tuple, Set and Dictionary.\n",
    "Here some examples of lists and dictionaries are shown.\n",
    "\n",
    "**List** is a data collection type characterized by ordered and changeable entries. It can be used as an array for storing multiple entries in one single variable."
   ]
  },
  {
   "cell_type": "code",
   "execution_count": 20,
   "metadata": {
    "id": "hzJmdeP_I3F5"
   },
   "outputs": [],
   "source": [
    "# Build a list\n",
    "mylist = [1, 2, 'three', 5]"
   ]
  },
  {
   "cell_type": "code",
   "execution_count": 21,
   "metadata": {
    "id": "3kP4pOcMI3F-"
   },
   "outputs": [
    {
     "data": {
      "text/plain": [
       "4"
      ]
     },
     "execution_count": 21,
     "metadata": {},
     "output_type": "execute_result"
    }
   ],
   "source": [
    "# Get the length of the list\n",
    "len(mylist)"
   ]
  },
  {
   "cell_type": "code",
   "execution_count": 22,
   "metadata": {
    "cellView": "both",
    "id": "edm6Uo1dI3GF"
   },
   "outputs": [
    {
     "data": {
      "text/plain": [
       "1"
      ]
     },
     "execution_count": 22,
     "metadata": {},
     "output_type": "execute_result"
    }
   ],
   "source": [
    "# Positional indexing\n",
    "mylist[0]"
   ]
  },
  {
   "cell_type": "code",
   "execution_count": 23,
   "metadata": {
    "id": "k9adMJtJxcJ-"
   },
   "outputs": [
    {
     "data": {
      "text/plain": [
       "5"
      ]
     },
     "execution_count": 23,
     "metadata": {},
     "output_type": "execute_result"
    }
   ],
   "source": [
    "# Access to the last element of the list\n",
    "mylist[-1]"
   ]
  },
  {
   "cell_type": "code",
   "execution_count": 24,
   "metadata": {
    "id": "rktEkiscxcJ-"
   },
   "outputs": [
    {
     "data": {
      "text/plain": [
       "[2, 'three', 5]"
      ]
     },
     "execution_count": 24,
     "metadata": {},
     "output_type": "execute_result"
    }
   ],
   "source": [
    "# Slicing returns a new list\n",
    "mylist[-3:]"
   ]
  },
  {
   "cell_type": "code",
   "execution_count": 25,
   "metadata": {
    "id": "YxuyQCinCGJe"
   },
   "outputs": [
    {
     "name": "stdout",
     "output_type": "stream",
     "text": [
      "[1, 2, 'three', 5, 6]\n"
     ]
    }
   ],
   "source": [
    "# Add a new item at the end of the list\n",
    "mylist.append(6)\n",
    "print(mylist)"
   ]
  },
  {
   "cell_type": "code",
   "execution_count": 26,
   "metadata": {
    "id": "lhiHiJDLH3dT"
   },
   "outputs": [
    {
     "name": "stdout",
     "output_type": "stream",
     "text": [
      "[1, 2, 'three', 4, 5, 6]\n"
     ]
    }
   ],
   "source": [
    "# Add a new item '4' at position 3, i.e., at the fourth position\n",
    "mylist.insert(3,4)\n",
    "print(mylist)"
   ]
  },
  {
   "cell_type": "code",
   "execution_count": 27,
   "metadata": {
    "id": "dW0d7nB2xcJ_"
   },
   "outputs": [
    {
     "name": "stdout",
     "output_type": "stream",
     "text": [
      "[1, 16, 3, 'four', 5, 6]\n"
     ]
    }
   ],
   "source": [
    "# Replace some values\n",
    "mylist[1:4] = [2**4, 3, 'four']\n",
    "print(mylist)"
   ]
  },
  {
   "cell_type": "code",
   "execution_count": 28,
   "metadata": {
    "id": "1z5BNma1xcJ_"
   },
   "outputs": [
    {
     "name": "stdout",
     "output_type": "stream",
     "text": [
      "[[1, 16, 3, 'four', 5, 6], [7, 8, 9]]\n"
     ]
    }
   ],
   "source": [
    "# Nesting lists (i.e., lists containing other lists)\n",
    "mynestedlist = [mylist, [7, 8, 9]]\n",
    "print(mynestedlist)"
   ]
  },
  {
   "cell_type": "code",
   "execution_count": 29,
   "metadata": {
    "id": "ISRQqPc3xcKA"
   },
   "outputs": [
    {
     "name": "stdout",
     "output_type": "stream",
     "text": [
      "[1, 16, 3, 'four', 5, 6, 7, 8, 9]\n"
     ]
    }
   ],
   "source": [
    "# Concatenating lists\n",
    "print(mylist + [7, 8, 9])"
   ]
  },
  {
   "cell_type": "code",
   "execution_count": 30,
   "metadata": {
    "id": "p6pNrzICxcKA"
   },
   "outputs": [
    {
     "name": "stdout",
     "output_type": "stream",
     "text": [
      "[1, 2, 3, 4, 5, 6, 7, 8, 9, 10, 11, 12, 13, 14, 15]\n"
     ]
    }
   ],
   "source": [
    "# Create a sequence of values\n",
    "myseq = list(range(1, 16))\n",
    "print(myseq)"
   ]
  },
  {
   "cell_type": "code",
   "execution_count": 31,
   "metadata": {
    "id": "ul8ke_woxcKA"
   },
   "outputs": [
    {
     "name": "stdout",
     "output_type": "stream",
     "text": [
      "[0, 3, 6, 9, 12, 15]\n"
     ]
    }
   ],
   "source": [
    "# Create a sequence of values with a step > 1\n",
    "step = 3\n",
    "print(list(range(0, 16,step)))"
   ]
  },
  {
   "cell_type": "code",
   "execution_count": 32,
   "metadata": {
    "id": "VT4cZnlAI3GU"
   },
   "outputs": [
    {
     "name": "stdout",
     "output_type": "stream",
     "text": [
      "1\n",
      "16\n",
      "3\n",
      "four\n",
      "5\n",
      "6\n"
     ]
    }
   ],
   "source": [
    "# Loop over a list\n",
    "for x in mylist:\n",
    "    print(x)"
   ]
  },
  {
   "cell_type": "code",
   "execution_count": 33,
   "metadata": {
    "id": "ze-WmAYyI3GY"
   },
   "outputs": [
    {
     "name": "stdout",
     "output_type": "stream",
     "text": [
      "Element 0  is  1\n",
      "Element 1  is  16\n",
      "Element 2  is  3\n",
      "Element 3  is  four\n",
      "Element 4  is  5\n",
      "Element 5  is  6\n"
     ]
    }
   ],
   "source": [
    "# Looping over two lists concurrently\n",
    "for i, x in enumerate(mylist):\n",
    "    print('Element', i, ' is ', x)"
   ]
  },
  {
   "cell_type": "code",
   "execution_count": 34,
   "metadata": {
    "id": "R8ERVC_xI3Gf"
   },
   "outputs": [
    {
     "name": "stdout",
     "output_type": "stream",
     "text": [
      "[4, 8, 12, 16, 20, 24, 28]\n"
     ]
    }
   ],
   "source": [
    "# List comprehension (with filtering)\n",
    "filtseq = [2*x for x in myseq if x % 2 == 0]\n",
    "print(filtseq)"
   ]
  },
  {
   "cell_type": "markdown",
   "metadata": {
    "id": "1LvplYX3xcKB"
   },
   "source": [
    "A **dictionary** is a data collection type characterized by unordered, changeable and indexed entries."
   ]
  },
  {
   "cell_type": "code",
   "execution_count": 35,
   "metadata": {
    "id": "YHtmiDHII3GJ"
   },
   "outputs": [],
   "source": [
    "# Make a dictionary\n",
    "D = {'firstname': \"Danilo\", 'lastname': \"Comminiello\", 'gender': \"male\", 'trueage': 19}"
   ]
  },
  {
   "cell_type": "code",
   "execution_count": 36,
   "metadata": {
    "id": "DA1I_5DmI3GN"
   },
   "outputs": [
    {
     "data": {
      "text/plain": [
       "'Danilo'"
      ]
     },
     "execution_count": 36,
     "metadata": {},
     "output_type": "execute_result"
    }
   ],
   "source": [
    "# Index the dictionary by key. Alternatively you can use the method get\n",
    "D['firstname']"
   ]
  },
  {
   "cell_type": "code",
   "execution_count": 37,
   "metadata": {
    "id": "wUzEc0o3I3Gb"
   },
   "outputs": [
    {
     "name": "stdout",
     "output_type": "stream",
     "text": [
      "Danilo\n",
      "Comminiello\n",
      "male\n",
      "19\n"
     ]
    }
   ],
   "source": [
    "# Loop over dictionary items\n",
    "for x in D.keys():\n",
    "    print(D[x])"
   ]
  },
  {
   "cell_type": "markdown",
   "metadata": {
    "id": "2IjMQNqAxcKC"
   },
   "source": [
    "#### 2.4. Functions  <a name=\"func\" />"
   ]
  },
  {
   "cell_type": "markdown",
   "metadata": {
    "id": "syFTVokFxcKC"
   },
   "source": [
    "**Functions** are a convenient way to divide your code into useful *blocks*, allowing us to order our code, make it more readable, reuse it and save some time. Also functions are a key way to define interfaces so programmers can share their code.<br>\n",
    "The *block head* is of the following format: block_keyword block_name(argument1,argument2, ...). Examples of block keywords are \"if\", \"for\", and \"while\".<br>\n",
    "Functions in Python are defined using the block keyword \"def\", followed with the function's name as the block's name."
   ]
  },
  {
   "cell_type": "code",
   "execution_count": 38,
   "metadata": {
    "id": "dvGqFVbQxcKD"
   },
   "outputs": [],
   "source": [
    "def my_function():\n",
    "    print(\"Before software can be reusable it first has to be usable. – Ralph Johnson\")"
   ]
  },
  {
   "cell_type": "markdown",
   "metadata": {
    "id": "EOQfeVamxcKD"
   },
   "source": [
    "Functions may also receive arguments (variables passed from the caller to the function). "
   ]
  },
  {
   "cell_type": "code",
   "execution_count": 39,
   "metadata": {
    "id": "UMPcFYTVxcKD"
   },
   "outputs": [],
   "source": [
    "def my_function_with_args(username, greeting):\n",
    "    print(\"Hello, %s , From My Function!, I wish you %s\"%(username, greeting))"
   ]
  },
  {
   "cell_type": "markdown",
   "metadata": {
    "id": "tN1cj_H8xcKE"
   },
   "source": [
    "The \"return\" statement returns with a value from a function; return without an expression argument returns \"None\". Falling off the end of a function also returns None."
   ]
  },
  {
   "cell_type": "code",
   "execution_count": 40,
   "metadata": {
    "id": "RC_xVq_RxcKE"
   },
   "outputs": [],
   "source": [
    "def sum_two_numbers(a, b):\n",
    "    return a + b"
   ]
  },
  {
   "cell_type": "markdown",
   "metadata": {
    "id": "_JD6an2axcKE"
   },
   "source": [
    "A function can be called by simply writing its name followed by (), placing any required arguments within the brackets."
   ]
  },
  {
   "cell_type": "code",
   "execution_count": 41,
   "metadata": {
    "id": "A9IUm4MjxcKE"
   },
   "outputs": [
    {
     "name": "stdout",
     "output_type": "stream",
     "text": [
      "Before software can be reusable it first has to be usable. – Ralph Johnson\n"
     ]
    }
   ],
   "source": [
    "# print (a simple instruction)\n",
    "my_function()"
   ]
  },
  {
   "cell_type": "code",
   "execution_count": 42,
   "metadata": {
    "id": "ZM6xCODpxcKE"
   },
   "outputs": [
    {
     "name": "stdout",
     "output_type": "stream",
     "text": [
      "Hello, Danilo , From My Function!, I wish you a great day!\n"
     ]
    }
   ],
   "source": [
    "#prints: \"Hello, Danilo, From My Function!, I wish you a great day!\"\n",
    "my_function_with_args(\"Danilo\", \"a great day!\")"
   ]
  },
  {
   "cell_type": "code",
   "execution_count": 43,
   "metadata": {
    "id": "OTgghHhxxcKF"
   },
   "outputs": [],
   "source": [
    "# after this line x will hold the value 3!\n",
    "x = sum_two_numbers(1,2)"
   ]
  },
  {
   "cell_type": "markdown",
   "metadata": {
    "id": "MJl35NtfI3G8"
   },
   "source": [
    "### 3. NumPy Fundamentals <a name=\"npy\" />"
   ]
  },
  {
   "cell_type": "markdown",
   "metadata": {
    "id": "dnhMD_bLwHmq"
   },
   "source": [
    "**NumPy** (short for \"Numerical Python\") was created by Travis Oliphant in 2005, by merging Numarray into Numeric. Since then, the open source NumPy library has evolved into an essential library for scientific computing in Python and has become a building block of many other scientific libraries, such as **SciPy**, **Scikit-learn**, **Pandas**, and others. What makes NumPy so particularly attractive to the scientific community is that it provides a convenient Python interface for working with *multi-dimensional array data structures* efficiently."
   ]
  },
  {
   "cell_type": "code",
   "execution_count": 44,
   "metadata": {
    "id": "-1dtp5dWI3G9"
   },
   "outputs": [],
   "source": [
    "# Import the NumPy library\n",
    "import numpy as np"
   ]
  },
  {
   "cell_type": "markdown",
   "metadata": {
    "id": "JUOzllDo__ZX"
   },
   "source": [
    "NumPy’s main data structure is the homogeneous **multidimensional array**, denoted by $\\texttt{ndarray}$, which is short for n-dimensional array. It is a table of elements (usually numbers), all of the same type, indexed by a tuple of positive integers.<br>\n",
    "Intuitively, we can think of a *one-dimensional NumPy array* as a data structure to represent a vector of elements – you may think of it as a fixed-size Python list where all elements share the same type. Similarly, we can think of a *two-dimensional array* as a data structure to represent a matrix or a Python list of lists.\n",
    "\n",
    "There are several ways to **create arrays**. One of the most common ways is to create an array from a regular Python list or tuple using the array function. The type of the resulting array is deduced from the type of the elements in the sequences."
   ]
  },
  {
   "cell_type": "code",
   "execution_count": 45,
   "metadata": {
    "id": "slwxatDGI3HB"
   },
   "outputs": [],
   "source": [
    "# Create a one-dimensional array\n",
    "x = np.array([1, 2, 3])"
   ]
  },
  {
   "cell_type": "code",
   "execution_count": 46,
   "metadata": {
    "id": "5r30SIk64Hgq"
   },
   "outputs": [
    {
     "name": "stdout",
     "output_type": "stream",
     "text": [
      "[1 2 3]\n"
     ]
    }
   ],
   "source": [
    "# Create an array from an existing list\n",
    "a = [1, 2, 3]\n",
    "x = np.asarray(a)\n",
    "print(x)"
   ]
  },
  {
   "cell_type": "code",
   "execution_count": 47,
   "metadata": {
    "id": "AWpdZ1y4xcKI"
   },
   "outputs": [
    {
     "name": "stdout",
     "output_type": "stream",
     "text": [
      "[[1 2 3]\n",
      " [4 5 6]]\n"
     ]
    }
   ],
   "source": [
    "# Create a two-dimensional NumPy array, consisting of two rows and three columns\n",
    "a = [[1, 2, 3], [4, 5, 6]]\n",
    "x = np.array(a)\n",
    "print(x)"
   ]
  },
  {
   "cell_type": "markdown",
   "metadata": {
    "id": "uFZjN4trxcKI"
   },
   "source": [
    "By default, NumPy infers the **type** of the array upon construction. Since we passed Python integers to the array, the $\\texttt{ndarray}$ object x should be of type $\\texttt{int64}$ on a 64-bit machine, which we can confirm by accessing the $\\texttt{dtype}$ attribute."
   ]
  },
  {
   "cell_type": "code",
   "execution_count": 48,
   "metadata": {
    "id": "uY2VnUOKI3HI"
   },
   "outputs": [
    {
     "data": {
      "text/plain": [
       "dtype('int32')"
      ]
     },
     "execution_count": 48,
     "metadata": {},
     "output_type": "execute_result"
    }
   ],
   "source": [
    "# Arrays have a homogeneous type for their elements\n",
    "x.dtype"
   ]
  },
  {
   "cell_type": "code",
   "execution_count": 49,
   "metadata": {
    "id": "KGbY5xrsI3HM"
   },
   "outputs": [
    {
     "data": {
      "text/plain": [
       "(2, 3)"
      ]
     },
     "execution_count": 49,
     "metadata": {},
     "output_type": "execute_result"
    }
   ],
   "source": [
    "# Shape is a tuple of elements indicating the size of the array\n",
    "x.shape"
   ]
  },
  {
   "cell_type": "markdown",
   "metadata": {
    "id": "9Xa2Sh9wBsCP"
   },
   "source": [
    "One-dimensional arrays can be **indexed, sliced and iterated over**, much like lists and other Python sequences. Multidimensional arrays can have one index per axis. These indices are given in a tuple separated by commas."
   ]
  },
  {
   "cell_type": "code",
   "execution_count": 50,
   "metadata": {
    "id": "antwpn1GI3HP"
   },
   "outputs": [
    {
     "name": "stdout",
     "output_type": "stream",
     "text": [
      "[[0.65323267 0.30928326]\n",
      " [0.61947463 0.04411047]\n",
      " [0.03650961 0.53386638]]\n"
     ]
    }
   ],
   "source": [
    "# Make a random matrix with elements drawn from the uniform distribution\n",
    "x = np.random.rand(3, 2)\n",
    "print(x)"
   ]
  },
  {
   "cell_type": "code",
   "execution_count": 51,
   "metadata": {
    "id": "boAStWbbI3HV"
   },
   "outputs": [
    {
     "data": {
      "text/plain": [
       "array([0.65323267, 0.30928326])"
      ]
     },
     "execution_count": 51,
     "metadata": {},
     "output_type": "execute_result"
    }
   ],
   "source": [
    "# Returns the entire first row\n",
    "x[0]"
   ]
  },
  {
   "cell_type": "code",
   "execution_count": 52,
   "metadata": {
    "id": "8fGpbNuGI3HZ"
   },
   "outputs": [
    {
     "data": {
      "text/plain": [
       "0.30928326280859497"
      ]
     },
     "execution_count": 52,
     "metadata": {},
     "output_type": "execute_result"
    }
   ],
   "source": [
    "x[0, 1] # first row, second column"
   ]
  },
  {
   "cell_type": "code",
   "execution_count": 53,
   "metadata": {
    "id": "hvS5P8fjI3Hc"
   },
   "outputs": [
    {
     "data": {
      "text/plain": [
       "array([0.65323267, 0.61947463])"
      ]
     },
     "execution_count": 53,
     "metadata": {},
     "output_type": "execute_result"
    }
   ],
   "source": [
    "x[0:2, 0] # first two elements of the first column"
   ]
  },
  {
   "cell_type": "code",
   "execution_count": 54,
   "metadata": {
    "id": "K-rOk9j9I3Hg"
   },
   "outputs": [
    {
     "data": {
      "text/plain": [
       "array([[0.03650961, 0.53386638]])"
      ]
     },
     "execution_count": 54,
     "metadata": {},
     "output_type": "execute_result"
    }
   ],
   "source": [
    "x[2:] # returns all the raws from the third on"
   ]
  },
  {
   "cell_type": "code",
   "execution_count": 55,
   "metadata": {
    "id": "XTH4jaXMI3Hj"
   },
   "outputs": [
    {
     "data": {
      "text/plain": [
       "array([[0.61947463, 0.04411047],\n",
       "       [0.03650961, 0.53386638]])"
      ]
     },
     "execution_count": 55,
     "metadata": {},
     "output_type": "execute_result"
    }
   ],
   "source": [
    "x[-2:] #returns the last two raws"
   ]
  },
  {
   "cell_type": "code",
   "execution_count": 56,
   "metadata": {
    "id": "mOB7UIucI3Hm"
   },
   "outputs": [
    {
     "name": "stdout",
     "output_type": "stream",
     "text": [
      "[[1. 1.]\n",
      " [1. 1.]\n",
      " [1. 1.]]\n"
     ]
    }
   ],
   "source": [
    "# Create a two-dimensional array of all 1\n",
    "A = np.ones((3, 2))\n",
    "print(A)"
   ]
  },
  {
   "cell_type": "code",
   "execution_count": 57,
   "metadata": {
    "id": "YB6xbin296fz"
   },
   "outputs": [
    {
     "name": "stdout",
     "output_type": "stream",
     "text": [
      "[[1. 1.]\n",
      " [1. 1.]\n",
      " [1. 1.]]\n"
     ]
    }
   ],
   "source": [
    "#Copy of an array\n",
    "B = A\n",
    "print(B)"
   ]
  },
  {
   "cell_type": "code",
   "execution_count": 58,
   "metadata": {
    "id": "t-ZvVE29-ANN"
   },
   "outputs": [
    {
     "name": "stdout",
     "output_type": "stream",
     "text": [
      "[[1. 0.]\n",
      " [1. 1.]\n",
      " [1. 1.]]\n"
     ]
    }
   ],
   "source": [
    "B[0, 1] = 0\n",
    "print(B)"
   ]
  },
  {
   "cell_type": "code",
   "execution_count": 59,
   "metadata": {
    "id": "gwUqA16nI3Ho"
   },
   "outputs": [
    {
     "name": "stdout",
     "output_type": "stream",
     "text": [
      "[[1. 0.]\n",
      " [1. 1.]\n",
      " [1. 1.]]\n"
     ]
    }
   ],
   "source": [
    "# In this way even A will be modified\n",
    "print(A)"
   ]
  },
  {
   "cell_type": "code",
   "execution_count": 60,
   "metadata": {
    "id": "by8BUobBxcKP"
   },
   "outputs": [
    {
     "name": "stdout",
     "output_type": "stream",
     "text": [
      "[[1 2]\n",
      " [3 4]\n",
      " [5 6]]\n"
     ]
    }
   ],
   "source": [
    "# The correct version if you want a copy of the array is obtained by using the method copy()\n",
    "A = np.array([[1, 2], [3, 4], [5, 6]])\n",
    "B = A.copy()\n",
    "print(B)"
   ]
  },
  {
   "cell_type": "code",
   "execution_count": 61,
   "metadata": {
    "id": "FIIKYiKKxcKP"
   },
   "outputs": [
    {
     "name": "stdout",
     "output_type": "stream",
     "text": [
      "[[1 2]\n",
      " [3 4]\n",
      " [5 6]]\n"
     ]
    }
   ],
   "source": [
    "print(A)"
   ]
  },
  {
   "cell_type": "markdown",
   "metadata": {
    "id": "qp0x-WnX--Om"
   },
   "source": [
    "NumPy has several **statistical functions** for finding minimum, maximum, percentile, standard deviation and variance, among others, from the given elements in the array."
   ]
  },
  {
   "cell_type": "code",
   "execution_count": 62,
   "metadata": {
    "id": "XFQQllwHI3Hr"
   },
   "outputs": [
    {
     "data": {
      "text/plain": [
       "21"
      ]
     },
     "execution_count": 62,
     "metadata": {},
     "output_type": "execute_result"
    }
   ],
   "source": [
    "A.sum() # sum all the elements of the array"
   ]
  },
  {
   "cell_type": "code",
   "execution_count": 63,
   "metadata": {
    "id": "Joa2J6OvI3Hv"
   },
   "outputs": [
    {
     "data": {
      "text/plain": [
       "array([ 9, 12])"
      ]
     },
     "execution_count": 63,
     "metadata": {},
     "output_type": "execute_result"
    }
   ],
   "source": [
    "A.sum(axis=0) # sum per columns"
   ]
  },
  {
   "cell_type": "code",
   "execution_count": 64,
   "metadata": {
    "id": "PrVIvFm5I3Hz"
   },
   "outputs": [
    {
     "data": {
      "text/plain": [
       "array([0.5, 0.5, 0.5])"
      ]
     },
     "execution_count": 64,
     "metadata": {},
     "output_type": "execute_result"
    }
   ],
   "source": [
    "A.std(axis=1) #standard deviation per raws"
   ]
  },
  {
   "cell_type": "markdown",
   "metadata": {
    "id": "0dktkHygEHf9"
   },
   "source": [
    "The term **broadcasting** describes how numpy treats arrays with different shapes during arithmetic operations. Subject to certain constraints, the smaller array is “broadcast” across the larger array so that they have compatible shapes."
   ]
  },
  {
   "cell_type": "code",
   "execution_count": 65,
   "metadata": {
    "id": "FFfttmrPI3H3"
   },
   "outputs": [
    {
     "name": "stdout",
     "output_type": "stream",
     "text": [
      "[[0.55201164 0.62238867]]\n",
      "\n",
      "\n",
      "[[0.55093905]\n",
      " [0.02541159]\n",
      " [0.25602197]]\n"
     ]
    }
   ],
   "source": [
    "A = np.random.rand(1, 2)\n",
    "print(A)\n",
    "print('\\n')\n",
    "B = np.random.rand(3, 1)\n",
    "print(B)"
   ]
  },
  {
   "cell_type": "code",
   "execution_count": 66,
   "metadata": {
    "id": "toV8PT4gI3H5"
   },
   "outputs": [
    {
     "data": {
      "text/plain": [
       "array([[0.30412477, 0.34289822],\n",
       "       [0.01402749, 0.01581589],\n",
       "       [0.14132711, 0.15934517]])"
      ]
     },
     "execution_count": 66,
     "metadata": {},
     "output_type": "execute_result"
    }
   ],
   "source": [
    "# A is broadcast to match dimensions of B\n",
    "A*B # Broadcasting!"
   ]
  },
  {
   "cell_type": "code",
   "execution_count": 67,
   "metadata": {
    "id": "LBgPg-loxcKR"
   },
   "outputs": [
    {
     "data": {
      "text/plain": [
       "array([[0.30412477, 0.34289822],\n",
       "       [0.01402749, 0.01581589],\n",
       "       [0.14132711, 0.15934517]])"
      ]
     },
     "execution_count": 67,
     "metadata": {},
     "output_type": "execute_result"
    }
   ],
   "source": [
    "# The result is equivalent to\n",
    "Abr = np.array([A[0], A[0], A[0]])\n",
    "Abr*B"
   ]
  },
  {
   "cell_type": "markdown",
   "metadata": {
    "id": "UwhAmXLhBMRy"
   },
   "source": [
    "### 4. Matplotlib fundamentals <a name=\"mtp\" />"
   ]
  },
  {
   "cell_type": "markdown",
   "metadata": {
    "id": "ivRYOlbLBa-T"
   },
   "source": [
    "**Matplotlib** is a plotting library for Python. It is used along with NumPy to provide a MATLAB-like environment.\n",
    "\n",
    "One of the most important functions in Matplotlib library is **pyplot()**, which is used to plot 2D data."
   ]
  },
  {
   "cell_type": "code",
   "execution_count": 68,
   "metadata": {
    "id": "rsTWjN4rCB2J"
   },
   "outputs": [],
   "source": [
    "# Import NumPy and Matplotlib libraries\n",
    "import numpy as np \n",
    "from matplotlib import pyplot as plt # import matplotlib"
   ]
  },
  {
   "cell_type": "code",
   "execution_count": 69,
   "metadata": {
    "id": "2vHcYG6jC0Tm"
   },
   "outputs": [
    {
     "name": "stdout",
     "output_type": "stream",
     "text": [
      "[ 1  2  3  4  5  6  7  8  9 10]\n"
     ]
    }
   ],
   "source": [
    "# Create an array of values between 1 and 10\n",
    "x = np.arange(1,11)\n",
    "print(x)"
   ]
  },
  {
   "cell_type": "code",
   "execution_count": 70,
   "metadata": {
    "id": "kf7fP-p1DChH"
   },
   "outputs": [
    {
     "name": "stdout",
     "output_type": "stream",
     "text": [
      "[ 7  9 11 13 15 17 19 21 23 25]\n"
     ]
    }
   ],
   "source": [
    "# Multiply each element of x by 2 and then add 5\n",
    "y = 2 * x + 5\n",
    "print(y)"
   ]
  },
  {
   "cell_type": "code",
   "execution_count": 71,
   "metadata": {
    "id": "59u4RMMaEbcA"
   },
   "outputs": [
    {
     "data": {
      "image/png": "[encoded data removed]",
      "text/plain": [
       "<Figure size 432x288 with 1 Axes>"
      ]
     },
     "metadata": {
      "needs_background": "light"
     },
     "output_type": "display_data"
    }
   ],
   "source": [
    "\"\"\"The values of x and y can be plotted using plot() function of pyplot submodule of matplotlib.\n",
    "The graphical representation is displayed by show() function.\"\"\"\n",
    "plt.title(\"Matplotlib demo\") \n",
    "plt.xlabel(\"x axis caption\") \n",
    "plt.ylabel(\"y axis caption\") \n",
    "plt.plot(x,y) \n",
    "plt.show()"
   ]
  },
  {
   "cell_type": "markdown",
   "metadata": {
    "id": "08Ga2C5yFiNn"
   },
   "source": [
    "The **subplot()** function can be used to plot different plots in the same figure. Here is an example in which sine and cosine values are plotted."
   ]
  },
  {
   "cell_type": "code",
   "execution_count": 72,
   "metadata": {
    "id": "afkSWKLrFhDT"
   },
   "outputs": [
    {
     "data": {
      "image/png": "[encoded data removed]",
      "text/plain": [
       "<Figure size 432x288 with 2 Axes>"
      ]
     },
     "metadata": {
      "needs_background": "light"
     },
     "output_type": "display_data"
    }
   ],
   "source": [
    "import numpy as np \n",
    "import matplotlib.pyplot as plt  \n",
    "   \n",
    "# Compute the x and y coordinates for points on sine and cosine curves \n",
    "x = np.arange(0, 3 * np.pi, 0.1) \n",
    "y_sin = np.sin(x) \n",
    "y_cos = np.cos(x)  \n",
    "   \n",
    "# Set up a subplot grid that has height 2 and width 1, \n",
    "# and set the first such subplot as active. \n",
    "plt.subplot(2, 1, 1)\n",
    "   \n",
    "# Make the first plot \n",
    "plt.plot(x, y_sin) \n",
    "plt.title('Sine')  \n",
    "   \n",
    "# Set the second subplot as active, and make the second plot. \n",
    "plt.subplot(2, 1, 2) \n",
    "plt.plot(x, y_cos) \n",
    "plt.title('Cosine')  \n",
    "   \n",
    "# Show the figure. \n",
    "plt.show()"
   ]
  }
 ],
 "metadata": {
  "colab": {
   "collapsed_sections": [],
   "name": "[MLSP]_Lab_session_01_Python.ipynb",
   "provenance": []
  },
  "kernelspec": {
   "display_name": "Python 3",
   "language": "python",
   "name": "python3"
  },
  "language_info": {
   "codemirror_mode": {
    "name": "ipython",
    "version": 3
   },
   "file_extension": ".py",
   "mimetype": "text/x-python",
   "name": "python",
   "nbconvert_exporter": "python",
   "pygments_lexer": "ipython3",
   "version": "3.7.9"
  }
 },
 "nbformat": 4,
 "nbformat_minor": 1
}
